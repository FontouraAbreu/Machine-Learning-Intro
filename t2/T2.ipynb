{
 "cells": [
  {
   "cell_type": "markdown",
   "metadata": {},
   "source": [
    "# Regressão Logística\n",
    "\n",
    "Neste trabalho, você implementará a regressão logística e a aplicará a dois conjuntos de dados diferentes.\n",
    "\n",
    "# Sumário\n",
    "- [ 1 - Pacotes ](#1)\n",
    "- [ 2 - Regressão Logística](#2)\n",
    "  - [ 2.1 Declaração do Problema](#2.1)\n",
    "  - [ 2.2 Carregamento e visualização dos dados](#2.2)\n",
    "  - [ 2.3 Função Sigmoide](#2.3)\n",
    "  - [ 2.4 Função de Custo para Regressão Logística](#2.4)\n",
    "  - [ 2.5 Gradiente para Regressão Logística](#2.5)\n",
    "  - [ 2.6 Aprendizagem de parâmetros usando o gradiente descendente ](#2.6)\n",
    "  - [ 2.7 Plotagem da Fronteira de Decisão](#2.7)\n",
    "  - [ 2.8 Avaliação da Regressão Logística](#2.8)\n",
    "- [ 3 - Regressão Logística Regularizada](#3)\n",
    "  - [ 3.1 Declaração do Problema](#3.1)\n",
    "  - [ 3.2 Carregamento e visualização dos dados](#3.2)\n",
    "  - [ 3.3 Mapeamento de Features](#3.3)\n",
    "  - [ 3.4 Função de Custo para Regressão Logística Regularizada](#3.4)\n",
    "  - [ 3.5 Gradiente para Regressão Logística Regularizada](#3.5)\n",
    "  - [ 3.6 Aprendizagem de parâmetros usando o gradiente descendente](#3.6)\n",
    "  - [ 3.7 Plotagem da Fronteira de Decisão](#3.7)\n",
    "  - [ 3.8 Avaliação do modelo de Regressão Logística Regularizada](#3.8)\n"
   ]
  },
  {
   "cell_type": "markdown",
   "metadata": {},
   "source": [
    "**NOTA:** Para evitar erros do corretor automático, é apenas permitido editar os código com o comentário no início `# GRADED FUNCTION` (que são, efetivamente, os 6 códigos que você deve preencher)"
   ]
  },
  {
   "cell_type": "markdown",
   "metadata": {},
   "source": [
    "<a name=\"1\"></a>\n",
    "## 1 - Pacotes \n",
    "\n",
    "Primeiro, vamos executar a célula abaixo para importar todos os pacotes de que você precisará durante esta tarefa.\n",
    "- [numpy](www.numpy.org) é o pacote fundamental para computação científica com Python.\n",
    "- [matplotlib](http://matplotlib.org) é uma biblioteca famosa para plotar gráficos em Python.\n",
    "-  ``utils.py`` contém funções auxiliares para esta tarefa. Você não precisa modificar o código neste arquivo."
   ]
  },
  {
   "cell_type": "code",
   "execution_count": 23,
   "metadata": {
    "deletable": false,
    "editable": false
   },
   "outputs": [],
   "source": [
    "import numpy as np\n",
    "import matplotlib.pyplot as plt\n",
    "from utils import *\n",
    "import copy\n",
    "import math\n",
    "\n",
    "%matplotlib inline"
   ]
  },
  {
   "cell_type": "markdown",
   "metadata": {},
   "source": [
    "<a name=\"2\"></a>\n",
    "## 2 - Regressão Logística\n",
    "\n",
    "Nesta parte do exercício, você construirá um modelo de regressão logística para prever se um estudante será admitido numa universidade.\n",
    "\n",
    "<a name=\"2.1\"></a>\n",
    "### 2.1 Declaração do Problema\n",
    "\n",
    "Suponha que você seja o administrador de um departamento universitário e queira determinar a chance de admissão de cada candidato com base nos seus resultados em dois exames. \n",
    "* Você tem dados históricos de candidatos anteriores que pode usar como um conjunto de treinamento para regressão logística. \n",
    "* Para cada exemplo de treinamento, você tem as notas do candidato em dois exames e a decisão de admissão. \n",
    "* Sua tarefa é construir um modelo de classificação que estime a probabilidade de admissão de um candidato com base nas notas desses dois exames. \n",
    "\n",
    "<a name=\"2.2\"></a>\n",
    "### 2.2 Carregamento e visualização dos dados\n",
    "\n",
    "Você começará carregando o conjunto de dados para esta tarefa. \n",
    "- A função `load_data()` mostrada abaixo carrega os dados nas variáveis `X_train` e `y_train`\n",
    "  - `X_train` contém as notas em dois exames para um estudante\n",
    "  - `y_train` é a decisão de admissão \n",
    "      - `y_train = 1` se o estudante foi admitido \n",
    "      - `y_train = 0` se o estudante não foi admitido \n",
    "  - Tanto `X_train` quanto `y_train` são arrays numpy.\n"
   ]
  },
  {
   "cell_type": "code",
   "execution_count": 34,
   "metadata": {
    "deletable": false,
    "editable": false
   },
   "outputs": [],
   "source": [
    "# carregar conjunto de dados\n",
    "X_train, y_train = load_data(\"data/ex2data1.txt\")"
   ]
  },
  {
   "cell_type": "markdown",
   "metadata": {},
   "source": [
    "#### Visualizar as variáveis\n",
    "Vamos nos familiarizar mais com o seu conjunto de dados.  \n",
    "- Um bom ponto de partida é simplesmente imprimir cada variável e ver o que ela contém.\n",
    "\n",
    "O código abaixo imprime os primeiros cinco valores de `X_train` e o tipo da variável."
   ]
  },
  {
   "cell_type": "code",
   "execution_count": 46,
   "metadata": {
    "deletable": false,
    "editable": false
   },
   "outputs": [
    {
     "name": "stdout",
     "output_type": "stream",
     "text": [
      "Os primeiros cinco elementos em X_train são:\n",
      " [[34.62365962 78.02469282]\n",
      " [30.28671077 43.89499752]\n",
      " [35.84740877 72.90219803]\n",
      " [60.18259939 86.3085521 ]\n",
      " [79.03273605 75.34437644]]\n",
      "Tipo de X_train: <class 'numpy.ndarray'>\n"
     ]
    }
   ],
   "source": [
    "print(\"Os primeiros cinco elementos em X_train são:\\n\", X_train[:5])\n",
    "print(\"Tipo de X_train:\",type(X_train))"
   ]
  },
  {
   "cell_type": "markdown",
   "metadata": {},
   "source": [
    "Agora imprima os primeiros cinco valores de `y_train`"
   ]
  },
  {
   "cell_type": "code",
   "execution_count": 47,
   "metadata": {
    "deletable": false,
    "editable": false
   },
   "outputs": [
    {
     "name": "stdout",
     "output_type": "stream",
     "text": [
      "Os primeiros cinco elementos em y_train são:\n",
      " [0. 0. 0. 1. 1.]\n",
      "Tipo de y_train: <class 'numpy.ndarray'>\n"
     ]
    }
   ],
   "source": [
    "print(\"Os primeiros cinco elementos em y_train são:\\n\", y_train[:5])\n",
    "print(\"Tipo de y_train:\",type(y_train))"
   ]
  },
  {
   "cell_type": "markdown",
   "metadata": {},
   "source": [
    "#### Verificar as dimensões das suas variáveis\n",
    "\n",
    "Outra forma útil de se familiarizar com seus dados é visualizar suas dimensões. Vamos imprimir o formato de `X_train` e `y_train` e ver quantos exemplos de treinamento temos em nosso conjunto de dados."
   ]
  },
  {
   "cell_type": "code",
   "execution_count": 48,
   "metadata": {
    "deletable": false,
    "editable": false
   },
   "outputs": [
    {
     "name": "stdout",
     "output_type": "stream",
     "text": [
      "O formato de X_train é: (100, 2)\n",
      "O formato de y_train é: (100,)\n",
      "Temos m = 100 exemplos de treinamento\n"
     ]
    }
   ],
   "source": [
    "print ('O formato de X_train é: ' + str(X_train.shape))\n",
    "print ('O formato de y_train é: ' + str(y_train.shape))\n",
    "print ('Temos m = %d exemplos de treinamento' % (len(y_train)))"
   ]
  },
  {
   "cell_type": "markdown",
   "metadata": {},
   "source": [
    "#### Visualizar seus dados\n",
    "\n",
    "Antes de começar a implementar qualquer algoritmo de aprendizagem, é sempre bom visualizar os dados, se possível.\n",
    "- O código abaixo exibe os dados num gráfico 2D (como mostrado abaixo), onde os eixos são as notas dos dois exames, e os exemplos positivos e negativos são mostrados com marcadores diferentes.\n",
    "- Usamos uma função auxiliar no arquivo ``utils.py`` para gerar este gráfico. \n",
    "\n",
    "<img src=\"images/figure 1.png\" width=\"450\" height=\"450\">\n",
    "\n"
   ]
  },
  {
   "cell_type": "code",
   "execution_count": 49,
   "metadata": {
    "deletable": false,
    "editable": false
   },
   "outputs": [
    {
     "data": {
      "image/png": "[encoded data removed]",
      "text/plain": [
       "<Figure size 640x480 with 1 Axes>"
      ]
     },
     "metadata": {},
     "output_type": "display_data"
    }
   ],
   "source": [
    "# Plotar exemplos\n",
    "plot_data(X_train, y_train[:], pos_label=\"Admitido\", neg_label=\"Não admitido\")\n",
    "\n",
    "# Definir o rótulo do eixo y\n",
    "plt.ylabel('Nota do Exame 2') \n",
    "# Definir o rótulo do eixo x\n",
    "plt.xlabel('Nota do Exame 1') \n",
    "plt.legend(loc=\"upper right\")\n",
    "plt.show()"
   ]
  },
  {
   "cell_type": "markdown",
   "metadata": {},
   "source": [
    "Seu objetivo é construir um modelo de regressão logística para ajustar estes dados.\n",
    "- Com este modelo, você pode então prever se um novo estudante será admitido com base nas suas notas nos dois exames."
   ]
  },
  {
   "cell_type": "markdown",
   "metadata": {},
   "source": [
    "<a name=\"2.3\"></a>\n",
    "### 2.3 Função Sigmoide\n",
    "\n",
    "Lembre-se de que para a regressão logística, o modelo é representado como\n",
    "\n",
    "$$ f_{\\mathbf{w},b}(x) = g(\\mathbf{w}\\cdot \\mathbf{x} + b)$$\n",
    "onde a função $g$ é a função sigmoide. A função sigmoide é definida como:\n",
    "\n",
    "$$g(z) = \\frac{1}{1+e^{-z}}$$\n",
    "\n",
    "Vamos implementar a função sigmoide primeiro, para que possa ser usada no resto desta tarefa.\n",
    "\n",
    "<a name='ex-01'></a>\n",
    "### Exercício 1\n",
    "Por favor, complete a função `sigmoid` para calcular\n",
    "\n",
    "$$g(z) = \\frac{1}{1+e^{-z}}$$\n",
    "\n",
    "Note que \n",
    "- `z` nem sempre é um único número, mas também pode ser um array de números. \n",
    "- Se a entrada for um array de números, gostaríamos de aplicar a função sigmoide a cada valor no array de entrada.\n"
   ]
  },
  {
   "cell_type": "code",
   "execution_count": 50,
   "metadata": {},
   "outputs": [],
   "source": [
    "# UNQ_C1\n",
    "# GRADED FUNCTION: sigmoid\n",
    "\n",
    "def sigmoid(z):\n",
    "    \"\"\"\n",
    "    Calcula o sigmoide de z\n",
    "\n",
    "    Args:\n",
    "        z (ndarray): Um escalar, array numpy de qualquer tamanho.\n",
    "\n",
    "    Returns:\n",
    "        g (ndarray): sigmoid(z), com o mesmo formato que z\n",
    "         \n",
    "    \"\"\"\n",
    "          \n",
    "    ### START CODE HERE ###\n",
    "\n",
    "    g = 1 / (1 + np.exp(-z)) \n",
    "    \n",
    "    ### END SOLUTION ###  \n",
    "    \n",
    "    return g"
   ]
  },
  {
   "cell_type": "markdown",
   "metadata": {},
   "source": [
    "Quando terminar, tente testar alguns valores chamando `sigmoid(x)` na célula abaixo. \n",
    "- Para valores grandes e positivos de x, o sigmoide deve estar perto de 1, enquanto para valores grandes e negativos, o sigmoide deve estar perto de 0. \n",
    "- Avaliar `sigmoid(0)` deve dar exatamente 0.5. \n"
   ]
  },
  {
   "cell_type": "code",
   "execution_count": 59,
   "metadata": {
    "deletable": false
   },
   "outputs": [
    {
     "name": "stdout",
     "output_type": "stream",
     "text": [
      "sigmoid(0) = 0.5\n"
     ]
    }
   ],
   "source": [
    "# Nota: Você pode editar este valor\n",
    "value = 0\n",
    "\n",
    "print (f\"sigmoid({value}) = {sigmoid(value)}\")"
   ]
  },
  {
   "cell_type": "markdown",
   "metadata": {},
   "source": [
    "**Saída Esperada**:\n",
    "<table>\n",
    "  <tr>\n",
    "    <td> <b>sigmoid(0)<b></td>\n",
    "    <td> 0.5 </td> \n",
    "  </tr>\n",
    "</table>\n",
    "    \n",
    "- Como mencionado antes, seu código também deve funcionar com vetores e matrizes. Para uma matriz, sua função deve executar a função sigmoide em cada elemento."
   ]
  },
  {
   "cell_type": "code",
   "execution_count": 63,
   "metadata": {
    "deletable": false,
    "editable": false
   },
   "outputs": [
    {
     "name": "stdout",
     "output_type": "stream",
     "text": [
      "sigmoid([ -1, 0, 1, 2]) = [0.26894142 0.5        0.73105858 0.88079708]\n",
      "\u001b[92mAll tests passed!\n"
     ]
    }
   ],
   "source": [
    "print (\"sigmoid([ -1, 0, 1, 2]) = \" + str(sigmoid(np.array([-1, 0, 1, 2]))))\n",
    "\n",
    "# UNIT TESTS\n",
    "from public_tests import *\n",
    "sigmoid_test(sigmoid)"
   ]
  },
  {
   "cell_type": "markdown",
   "metadata": {},
   "source": [
    "**Saída Esperada**:\n",
    "<table>\n",
    "  <tr>\n",
    "    <td><b>sigmoid([-1, 0, 1, 2])<b></td> \n",
    "    <td>[0.26894142        0.5           0.73105858        0.88079708]</td> \n",
    "  </tr>    \n",
    "  \n",
    "</table>"
   ]
  },
  {
   "cell_type": "markdown",
   "metadata": {},
   "source": [
    "<a name=\"2.4\"></a>\n",
    "### 2.4 Função de Custo para Regressão Logística\n",
    "\n",
    "Nesta seção, você implementará a função de custo para regressão logística.\n",
    "\n",
    "<a name='ex-02'></a>\n",
    "### Exercício 2\n",
    "\n",
    "Por favor, complete a função `compute_cost` usando as equações abaixo.\n",
    "\n",
    "Lembre-se que para a regressão logística, a função de custo tem a forma \n",
    "\n",
    "$$ J(\\mathbf{w},b) = \\frac{1}{m}\\sum_{i=0}^{m-1} \\left[ loss(f_{\\mathbf{w},b}(\\mathbf{x}^{(i)}), y^{(i)}) \\right] \\tag{1}$$\n",
    "\n",
    "onde\n",
    "* m é o número de exemplos de treinamento no conjunto de dados\n",
    "\n",
    "\n",
    "* $loss(f_{\\mathbf{w},b}(\\mathbf{x}^{(i)}), y^{(i)})$ é o custo para um único ponto de dados, que é - \n",
    "\n",
    "    $$loss(f_{\\mathbf{w},b}(\\mathbf{x}^{(i)}), y^{(i)}) = (-y^{(i)} \\log\\left(f_{\\mathbf{w},b}\\left( \\mathbf{x}^{(i)} \\right) \\right) - \\left( 1 - y^{(i)}\\right) \\log \\left( 1 - f_{\\mathbf{w},b}\\left( \\mathbf{x}^{(i)} \\right) \\right) \\tag{2}$$\n",
    "    \n",
    "    \n",
    "* $f_{\\mathbf{w},b}(\\mathbf{x}^{(i)})$ é a previsão do modelo, enquanto $y^{(i)}$, que é o rótulo real\n",
    "\n",
    "* $f_{\\mathbf{w},b}(\\mathbf{x}^{(i)}) = g(\\mathbf{w} \\cdot \\mathbf{x^{(i)}} + b)$ onde a função $g$ é a função sigmoide.\n",
    "    * Pode ser útil calcular primeiro uma variável intermediária $z_{\\mathbf{w},b}(\\mathbf{x}^{(i)}) = \\mathbf{w} \\cdot \\mathbf{x^{(i)}} + b = w_0x^{(i)}_0 + ... + w_{n-1}x^{(i)}_{n-1} + b$ onde $n$ é o número de features, antes de calcular $f_{\\mathbf{w},b}(\\mathbf{x}^{(i)}) = g(z_{\\mathbf{w},b}(\\mathbf{x}^{(i)}))$\n",
    "\n",
    "Nota:\n",
    "* Ao fazer isso, lembre-se de que as variáveis `X_train` e `y_train` não são valores escalares, mas sim matrizes de formato ($m, n$) e ($𝑚$,1) respetivamente, onde $𝑛$ é o número de features e $𝑚$ é o número de exemplos de treinamento.\n",
    "* Você pode usar a função sigmoide que implementou acima para esta parte.\n"
   ]
  },
  {
   "cell_type": "code",
   "execution_count": 71,
   "metadata": {},
   "outputs": [],
   "source": [
    "# UNQ_C2\n",
    "# GRADED FUNCTION: compute_cost\n",
    "def compute_cost(X, y, w, b, *argv):\n",
    "    \"\"\"\n",
    "    Calcula o custo sobre todos os exemplos\n",
    "    Args:\n",
    "      X : (ndarray Shape (m,n)) dados, m exemplos por n features\n",
    "      y : (ndarray Shape (m,))  valor alvo \n",
    "      w : (ndarray Shape (n,))  valores dos parâmetros do modelo      \n",
    "      b : (scalar)              valor do parâmetro de bias do modelo\n",
    "      *argv : não usado, para compatibilidade com a versão regularizada abaixo\n",
    "    Returns:\n",
    "      total_cost : (scalar) custo \n",
    "    \"\"\"\n",
    "\n",
    "    m, n = X.shape\n",
    "    \n",
    "    ### START CODE HERE ###\n",
    "\n",
    "    sigmoid_res = sigmoid(X.dot(w) + b)\n",
    "    loss_res = -y * np.log(sigmoid_res) - (1-y) * np.log(1-sigmoid_res)\n",
    "    total_cost = 1/m * np.sum(loss_res)    \n",
    "        \n",
    "    ### END CODE HERE ### \n",
    "\n",
    "    return total_cost"
   ]
  },
  {
   "cell_type": "markdown",
   "metadata": {},
   "source": [
    "<details>\n",
    "<summary><font size=\"3\" color=\"darkgreen\"><b>Clique para ver as dicas</b></font></summary>\n",
    "    \n",
    "* Você pode representar um operador de somatório eg: $h = \\sum\\limits_{i = 0}^{m-1} 2i$ em código da seguinte forma:\n",
    "\n",
    "```python\n",
    "    h = 0\n",
    "    for i in range(m):\n",
    "        h = h + 2*i\n",
    "```\n",
    "<br>\n",
    "\n",
    "* Neste caso, você pode iterar sobre todos os exemplos em `X` usando um loop for e adicionar a `loss` de cada iteração a uma variável (`loss_sum`) inicializada fora do loop.\n",
    "\n",
    "* Em seguida, você pode retornar o `total_cost` como `loss_sum` dividido por `m`.\n",
    "\n",
    "* Se você é novo no Python, verifique se o seu código está corretamente indentado com espaços ou tabulações consistentes. Caso contrário, pode produzir uma saída diferente ou gerar um erro `IndentationError: unexpected indent`. \n",
    "     \n",
    "</details>"
   ]
  },
  {
   "cell_type": "markdown",
   "metadata": {},
   "source": [
    "Execute as células abaixo para verificar a sua implementação da função `compute_cost` com duas inicializações diferentes dos parâmetros $w$ e $b$"
   ]
  },
  {
   "cell_type": "code",
   "execution_count": 72,
   "metadata": {
    "deletable": false,
    "editable": false
   },
   "outputs": [
    {
     "name": "stdout",
     "output_type": "stream",
     "text": [
      "Custo em w e b iniciais (zeros): 0.693\n"
     ]
    }
   ],
   "source": [
    "m, n = X_train.shape\n",
    "\n",
    "# Calcular e exibir o custo com w e b inicializados a zeros\n",
    "initial_w = np.zeros(n)\n",
    "initial_b = 0.\n",
    "cost = compute_cost(X_train, y_train, initial_w, initial_b)\n",
    "print('Custo em w e b iniciais (zeros): {:.3f}'.format(cost))"
   ]
  },
  {
   "cell_type": "markdown",
   "metadata": {},
   "source": [
    "**Saída Esperada**:\n",
    "<table>\n",
    "  <tr>\n",
    "    <td> <b>Custo em w e b iniciais (zeros)<b></td>\n",
    "    <td> 0.693 </td> \n",
    "  </tr>\n",
    "</table>"
   ]
  },
  {
   "cell_type": "code",
   "execution_count": 73,
   "metadata": {
    "deletable": false,
    "editable": false
   },
   "outputs": [
    {
     "name": "stdout",
     "output_type": "stream",
     "text": [
      "Custo em w e b de teste (não nulos): 0.218\n",
      "\u001b[92mAll tests passed!\n"
     ]
    }
   ],
   "source": [
    "# Calcular e exibir o custo com w e b não nulos\n",
    "test_w = np.array([0.2, 0.2])\n",
    "test_b = -24.\n",
    "cost = compute_cost(X_train, y_train, test_w, test_b)\n",
    "\n",
    "print('Custo em w e b de teste (não nulos): {:.3f}'.format(cost))\n",
    "\n",
    "\n",
    "# UNIT TESTS\n",
    "compute_cost_test(compute_cost)"
   ]
  },
  {
   "cell_type": "markdown",
   "metadata": {},
   "source": [
    "**Saída Esperada**:\n",
    "<table>\n",
    "  <tr>\n",
    "    <td> <b>Custo em w e b de teste (não nulos):<b></td>\n",
    "    <td> 0.218 </td> \n",
    "  </tr>\n",
    "</table>"
   ]
  },
  {
   "cell_type": "markdown",
   "metadata": {},
   "source": [
    "<a name=\"2.5\"></a>\n",
    "### 2.5 Gradiente para Regressão Logística\n",
    "\n",
    "Nesta seção, você implementará o gradiente para regressão logística.\n",
    "\n",
    "Lembre-se de que o algoritmo do gradiente descendente é:\n",
    "\n",
    "$$\\begin{align*}& \\text{repeat until convergence:} \\; \\lbrace \\newline \\; & b := b -  \\alpha \\frac{\\partial J(\\mathbf{w},b)}{\\partial b} \\newline       \\; & w_j := w_j -  \\alpha \\frac{\\partial J(\\mathbf{w},b)}{\\partial w_j} \\tag{1}  \\; & \\text{for j := 0..n-1}\\newline & \\rbrace\\end{align*}$$\n",
    "\n",
    "onde, os parâmetros $b$, $w_j$ são todos atualizados simultaneamente"
   ]
  },
  {
   "cell_type": "markdown",
   "metadata": {},
   "source": [
    "\n",
    "<a name='ex-03'></a>\n",
    "### Exercício 3\n",
    "\n",
    "Por favor, complete a função `compute_gradient` para calcular $\\frac{\\partial J(\\mathbf{w},b)}{\\partial w}$, $\\frac{\\partial J(\\mathbf{w},b)}{\\partial b}$ a partir das equações (2) e (3) abaixo.\n",
    "\n",
    "$$\n",
    "\\frac{\\partial J(\\mathbf{w},b)}{\\partial b}  = \\frac{1}{m} \\sum\\limits_{i = 0}^{m-1} (f_{\\mathbf{w},b}(\\mathbf{x}^{(i)}) - \\mathbf{y}^{(i)}) \\tag{2}\n",
    "$$\n",
    "$$\n",
    "\\frac{\\partial J(\\mathbf{w},b)}{\\partial w_j}  = \\frac{1}{m} \\sum\\limits_{i = 0}^{m-1} (f_{\\mathbf{w},b}(\\mathbf{x}^{(i)}) - \\mathbf{y}^{(i)})x_{j}^{(i)} \\tag{3}\n",
    "$$\n",
    "* m é o número de exemplos de treinamento no conjunto de dados\n",
    "\n",
    "    \n",
    "* $f_{\\mathbf{w},b}(x^{(i)})$ é a previsão do modelo, enquanto $y^{(i)}$ é o rótulo real\n",
    "\n",
    "\n",
    "- **Nota**: Embora este gradiente pareça idêntico ao gradiente da regressão linear, a fórmula é na verdade diferente porque a regressão linear e a logística têm diferentes definições de $f_{\\mathbf{w},b}(x).$\n",
    "\n",
    "Como antes, você pode usar a função sigmoide que implementou acima."
   ]
  },
  {
   "cell_type": "code",
   "execution_count": 116,
   "metadata": {},
   "outputs": [],
   "source": [
    "# UNQ_C3\n",
    "# GRADED FUNCTION: compute_gradient\n",
    "def compute_gradient(X, y, w, b, *argv): \n",
    "    \"\"\"\n",
    "    Calcula o gradiente para regressão logística \n",
    " \n",
    "    Args:\n",
    "      X : (ndarray Shape (m,n)) dados, m exemplos por n features\n",
    "      y : (ndarray Shape (m,))  valor alvo \n",
    "      w : (ndarray Shape (n,))  valores dos parâmetros do modelo      \n",
    "      b : (scalar)              valor do parâmetro de bias do modelo\n",
    "      *argv : não usado, para compatibilidade com a versão regularizada abaixo\n",
    "    Returns\n",
    "      dj_dw : (ndarray Shape (n,)) O gradiente do custo em relação aos parâmetros w. \n",
    "      dj_db : (scalar)             O gradiente do custo em relação ao parâmetro b. \n",
    "    \"\"\"\n",
    "    m, n = X.shape\n",
    "    dj_dw = np.zeros(w.shape)\n",
    "    dj_db = 0.\n",
    "\n",
    "    ### START CODE HERE ### \n",
    "\n",
    "    sigmoid_res = sigmoid(X.dot(w) + b)\n",
    "    dj_db = 1/m * np.sum(sigmoid_res - y)\n",
    "    dj_dw = 1/m * np.sum((sigmoid_res - y) * X.T, axis=1)\n",
    "    \n",
    "    ### END CODE HERE ###\n",
    "\n",
    "        \n",
    "    return dj_db, dj_dw"
   ]
  },
  {
   "cell_type": "markdown",
   "metadata": {},
   "source": [
    "Execute as células abaixo para verificar a sua implementação da função `compute_gradient` com duas inicializações diferentes dos parâmetros $w$ e $b$"
   ]
  },
  {
   "cell_type": "code",
   "execution_count": 117,
   "metadata": {
    "deletable": false,
    "editable": false
   },
   "outputs": [
    {
     "name": "stdout",
     "output_type": "stream",
     "text": [
      "dj_db em w e b iniciais (zeros):-0.1\n",
      "dj_dw em w e b iniciais (zeros):[-12.00921658929115, -11.262842205513591]\n"
     ]
    }
   ],
   "source": [
    "# Calcular e exibir o gradiente com w e b inicializados a zeros\n",
    "initial_w = np.zeros(n)\n",
    "initial_b = 0.\n",
    "\n",
    "dj_db, dj_dw = compute_gradient(X_train, y_train, initial_w, initial_b)\n",
    "print(f'dj_db em w e b iniciais (zeros):{dj_db}' )\n",
    "print(f'dj_dw em w e b iniciais (zeros):{dj_dw.tolist()}' )"
   ]
  },
  {
   "cell_type": "markdown",
   "metadata": {},
   "source": [
    "**Saída Esperada**:\n",
    "<table>\n",
    "  <tr>\n",
    "    <td> <b>dj_db em w e b iniciais (zeros)<b></td>\n",
    "    <td> -0.1 </td> \n",
    "  </tr>\n",
    "  <tr>\n",
    "    <td> <b>dj_dw em w e b iniciais (zeros):<b></td>\n",
    "    <td> [-12.00921658929115, -11.262842205513591] </td> \n",
    "  </tr>\n",
    "</table>"
   ]
  },
  {
   "cell_type": "code",
   "execution_count": 118,
   "metadata": {
    "deletable": false,
    "editable": false
   },
   "outputs": [
    {
     "name": "stdout",
     "output_type": "stream",
     "text": [
      "dj_db em w e b de teste: -0.5999999999991071\n",
      "dj_dw em w e b de teste: [-44.831353617873795, -44.37384124953979]\n",
      "\u001b[92mAll tests passed!\n"
     ]
    }
   ],
   "source": [
    "# Calcular e exibir o custo e o gradiente com w e b não nulos\n",
    "test_w = np.array([ 0.2, -0.5])\n",
    "test_b = -24\n",
    "dj_db, dj_dw = compute_gradient(X_train, y_train, test_w, test_b)\n",
    "\n",
    "print('dj_db em w e b de teste:', dj_db)\n",
    "print('dj_dw em w e b de teste:', dj_dw.tolist())\n",
    "\n",
    "# UNIT TESTS \n",
    "compute_gradient_test(compute_gradient)"
   ]
  },
  {
   "cell_type": "markdown",
   "metadata": {},
   "source": [
    "**Saída Esperada**:\n",
    "<table>\n",
    "  <tr>\n",
    "    <td> <b>dj_db em w e b de teste (não nulos)<b></td>\n",
    "    <td> -0.5999999999991071 </td> \n",
    "  </tr>\n",
    "  <tr>\n",
    "    <td> <b>dj_dw em w e b de teste (não nulos):<b></td>\n",
    "    <td> [-44.8313536178737957, -44.37384124953978] </td> \n",
    "  </tr>\n",
    "</table>"
   ]
  },
  {
   "cell_type": "markdown",
   "metadata": {},
   "source": [
    "<a name=\"2.6\"></a>\n",
    "### 2.6 Aprendizagem de parâmetros usando o gradiente descendente \n",
    "\n",
    "Semelhante à tarefa anterior, agora você encontrará os parâmetros ótimos de um modelo de regressão logística usando o gradiente descendente. \n",
    "- Você não precisa implementar nada para esta parte. Simplesmente execute as células abaixo. \n",
    "\n",
    "- Uma boa maneira de verificar se o gradiente descendente está a funcionar corretamente é observar o valor de $J(\\mathbf{w},b)$ e verificar se está a diminuir a cada passo. \n",
    "\n",
    "- Assumindo que você implementou o gradiente e calculou o custo corretamente, o seu valor de $J(\\mathbf{w},b)$ nunca deve aumentar e deve convergir para um valor estável no final do algoritmo."
   ]
  },
  {
   "cell_type": "code",
   "execution_count": 121,
   "metadata": {
    "deletable": false,
    "editable": false
   },
   "outputs": [],
   "source": [
    "def gradient_descent(X, y, w_in, b_in, cost_function, gradient_function, alpha, num_iters, lambda_): \n",
    "    \"\"\"\n",
    "    Executa o gradiente descendente em lote para aprender theta. Atualiza theta dando \n",
    "    num_iters passos do gradiente com taxa de aprendizagem alpha\n",
    " \n",
    "    Args:\n",
    "      X : (ndarray Shape (m, n) dados, m exemplos por n features\n",
    "      y : (ndarray Shape (m,)) valor alvo \n",
    "      w_in : (ndarray Shape (n,)) Valores iniciais dos parâmetros do modelo\n",
    "      b_in : (scalar) Valor inicial do parâmetro do modelo\n",
    "      cost_function : função para calcular o custo\n",
    "      gradient_function : função para calcular o gradiente\n",
    "      alpha : (float) Taxa de aprendizagem\n",
    "      num_iters : (int) número de iterações para executar o gradiente descendente\n",
    "      lambda_ : (scalar, float) constante de regularização\n",
    " \n",
    "    Returns:\n",
    "      w : (ndarray Shape (n,)) Valores atualizados dos parâmetros do modelo após\n",
    "      executar o gradiente descendente\n",
    "      b : (scalar) Valor atualizado do parâmetro do modelo após\n",
    "      executar o gradiente descendente\n",
    "    \"\"\"\n",
    " \n",
    "    # número de exemplos de treinamento\n",
    "    m = len(X)\n",
    " \n",
    "    # Um array para armazenar o custo J e os w's em cada iteração, principalmente para gráficos posteriores\n",
    "    J_history = []\n",
    "    w_history = []\n",
    " \n",
    "    for i in range(num_iters):\n",
    "\n",
    "        # Calcular o gradiente e atualizar os parâmetros\n",
    "        dj_db, dj_dw = gradient_function(X, y, w_in, b_in, lambda_) \n",
    "\n",
    "        # Atualizar Parâmetros usando w, b, alpha e gradiente\n",
    "        w_in = w_in - alpha * dj_dw \n",
    "        b_in = b_in - alpha * dj_db \n",
    " \n",
    "        # Salvar custo J em cada iteração\n",
    "        if i<100000: # prevenir o esgotamento de recursos \n",
    "            cost = cost_function(X, y, w_in, b_in, lambda_)\n",
    "            J_history.append(cost)\n",
    "\n",
    "        # Imprimir o custo a cada intervalo de 10 vezes ou tantas iterações se for < 10\n",
    "        if i% math.ceil(num_iters/10) == 0 or i == (num_iters-1):\n",
    "            w_history.append(w_in)\n",
    "            print(f\"Iteration {i:4}: Cost {float(J_history[-1]):8.2f} \")\n",
    " \n",
    "    return w_in, b_in, J_history, w_history # retornar w e o histórico de J,w para gráficos"
   ]
  },
  {
   "cell_type": "markdown",
   "metadata": {},
   "source": [
    "Agora, vamos executar o algoritmo de gradiente descendente acima para aprender os parâmetros para o nosso conjunto de dados.\n",
    "\n",
    "**Nota**\n",
    "O bloco de código abaixo demora alguns minutos a ser executado, especialmente com uma versão não-vetorizada. Você pode reduzir as `iterations` para testar a sua implementação e iterar mais rapidamente. Se tiver tempo mais tarde, tente executar 100.000 iterações para obter melhores resultados."
   ]
  },
  {
   "cell_type": "code",
   "execution_count": 122,
   "metadata": {
    "deletable": false,
    "editable": false
   },
   "outputs": [
    {
     "name": "stdout",
     "output_type": "stream",
     "text": [
      "Iteration    0: Cost     0.96 \n",
      "Iteration 1000: Cost     0.31 \n",
      "Iteration 2000: Cost     0.30 \n",
      "Iteration 3000: Cost     0.30 \n",
      "Iteration 4000: Cost     0.30 \n",
      "Iteration 5000: Cost     0.30 \n",
      "Iteration 6000: Cost     0.30 \n",
      "Iteration 7000: Cost     0.30 \n",
      "Iteration 8000: Cost     0.30 \n",
      "Iteration 9000: Cost     0.30 \n",
      "Iteration 9999: Cost     0.30 \n"
     ]
    }
   ],
   "source": [
    "np.random.seed(1)\n",
    "initial_w = 0.01 * (np.random.rand(2) - 0.5)\n",
    "initial_b = -8\n",
    "\n",
    "# Algumas configurações do gradiente descendente\n",
    "iterations = 10000\n",
    "alpha = 0.001\n",
    "\n",
    "w,b, J_history,_ = gradient_descent(X_train ,y_train, initial_w, initial_b, \n",
    "                                   compute_cost, compute_gradient, alpha, iterations, 0)"
   ]
  },
  {
   "cell_type": "markdown",
   "metadata": {},
   "source": [
    "<details>\n",
    "<summary>\n",
    " <b>Saída Esperada: Custo 0.30, (Clique para ver detalhes):</b>\n",
    "</summary>\n",
    "\n",
    " # With the following settings\n",
    "    np.random.seed(1)\n",
    "    initial_w = 0.01 * (np.random.rand(2) - 0.5)\n",
    "    initial_b = -8\n",
    "    iterations = 10000\n",
    "    alpha = 0.001\n",
    "    #\n",
    "\n",
    "```\n",
    "Iteration    0: Cost     0.96   \n",
    "Iteration 1000: Cost     0.31   \n",
    "Iteration 2000: Cost     0.30   \n",
    "Iteration 3000: Cost     0.30   \n",
    "Iteration 4000: Cost     0.30   \n",
    "Iteration 5000: Cost     0.30   \n",
    "Iteration 6000: Cost     0.30   \n",
    "Iteration 7000: Cost     0.30   \n",
    "Iteration 8000: Cost     0.30   \n",
    "Iteration 9000: Cost     0.30   \n",
    "Iteration 9999: Cost     0.30   \n",
    "```\n",
    "</details>"
   ]
  },
  {
   "cell_type": "markdown",
   "metadata": {},
   "source": [
    "<a name=\"2.7\"></a>\n",
    "### 2.7 Plotagem da Fronteira de Decisão\n",
    "\n",
    "Agora, a fronteira de decisão aprendida é plotada sobre os dados. \n",
    "Assumindo que você implementou corretamente, você deve ver uma fronteira que separa aproximadamente os exemplos positivos dos negativos. \n",
    "\n",
    "<img src=\"images/figure 2.png\" width=\"450\" height=\"450\">\n"
   ]
  },
  {
   "cell_type": "code",
   "execution_count": 123,
   "metadata": {
    "deletable": false,
    "editable": false
   },
   "outputs": [
    {
     "data": {
      "image/png": "[encoded data removed]",
      "text/plain": [
       "<Figure size 640x480 with 1 Axes>"
      ]
     },
     "metadata": {},
     "output_type": "display_data"
    }
   ],
   "source": [
    "# Plotar a fronteira de decisão\n",
    "plot_decision_boundary(w, b, X_train, y_train)\n",
    "\n",
    "# Adicionar rótulos\n",
    "plt.ylabel('Nota do Exame 2') \n",
    "plt.xlabel('Nota do Exame 1') \n",
    "plt.legend(loc=\"upper right\")\n",
    "plt.show()"
   ]
  },
  {
   "cell_type": "markdown",
   "metadata": {},
   "source": [
    "<a name=\"2.8\"></a>\n",
    "### 2.8 Avaliação da Regressão Logística\n",
    "\n",
    "Depois de aprender os parâmetros, você pode usar o modelo para prever se um determinado estudante será admitido.\n",
    "\n",
    "Você irá implementar a função `predict` abaixo para fazer isso."
   ]
  },
  {
   "cell_type": "markdown",
   "metadata": {},
   "source": [
    "\n",
    "<a name='ex-04'></a>\n",
    "### Exercício 4\n",
    "\n",
    "Complete a função `predict` para produzir predições `1` ou `0` dada um conjunto de dados e parâmetros aprendidos $w$ e $b$.\n",
    "- Primeiro, você precisa computar a predição a partir do modelo $f(x^{(i)}) = g(w \\cdot x^{(i)} + b)$ para cada exemplo \n",
    "    - Você já implementou isso antes nas partes acima\n",
    "- Interpretamos a saída do modelo ($f(x^{(i)})$) como a probabilidade de que $y^{(i)}=1$ dado $x^{(i)}$ e parametrizado por $w$.\n",
    "- Portanto, para obter a predição final ($y^{(i)}=0$ ou $y^{(i)}=1$) a partir do modelo de regressão logística, você pode usar a seguinte heurística -\n",
    "\n",
    "  se $f(x^{(i)}) >= 0.5$, predizer $y^{(i)}=1$\n",
    "  \n",
    "  se $f(x^{(i)}) < 0.5$, predizer $y^{(i)}=0$\n"
   ]
  },
  {
   "cell_type": "code",
   "execution_count": null,
   "metadata": {},
   "outputs": [],
   "source": [
    "# UNQ_C4\n",
    "# GRADED FUNCTION: predict\n",
    "def predict(X, w, b):\n",
    "    \"\"\"\n",
    "    Prevê se o rótulo é 0 ou 1 usando parâmetros de regressão logística aprendidos (w, b)\n",
    "    \n",
    "    Args:\n",
    "      X : (ndarray Shape (m,n)) dados, m exemplos por n features\n",
    "      w : (ndarray Shape (n,)) valores dos parâmetros do modelo      \n",
    "      b : (scalar) valor do parâmetro de bias do modelo\n",
    "    \n",
    "    Returns:\n",
    "      p : (ndarray (m,1)) Vetor de previsões (0 ou 1)\n",
    "    \"\"\"\n",
    "    # número de exemplos de treinamento\n",
    "    m, n = X.shape   \n",
    "    p = np.zeros(m) \n",
    "   \n",
    "    ### START CODE HERE ### \n",
    "    \n",
    "    for i in range(m):\n",
    "        if sigmoid(X[i].dot(w) + b) >= 0.5:\n",
    "            p[i] = 1\n",
    "        else:\n",
    "            p[i] = 0\n",
    "        \n",
    "    ### END CODE HERE ### \n",
    "    return p   "
   ]
  },
  {
   "cell_type": "markdown",
   "metadata": {},
   "source": [
    "Agora vamos testar sua função de previsão e ver a precisão do seu modelo no conjunto de treinamento."
   ]
  },
  {
   "cell_type": "code",
   "execution_count": 127,
   "metadata": {},
   "outputs": [
    {
     "name": "stdout",
     "output_type": "stream",
     "text": [
      "Output of predict: shape (4,), value [0. 1. 1. 1.]\n",
      "\u001b[92mAll tests passed!\n"
     ]
    }
   ],
   "source": [
    "# Teste seu codigo de predicao\n",
    "np.random.seed(1)\n",
    "tmp_w = np.random.randn(2)\n",
    "tmp_b = 0.3    \n",
    "tmp_X = np.random.randn(4, 2) - 0.5\n",
    "\n",
    "tmp_p = predict(tmp_X, tmp_w, tmp_b)\n",
    "print(f'Output of predict: shape {tmp_p.shape}, value {tmp_p}')\n",
    "\n",
    "# UNIT TESTS        \n",
    "predict_test(predict)"
   ]
  },
  {
   "cell_type": "markdown",
   "metadata": {},
   "source": [
    "**Saída esperada** \n",
    "\n",
    "<table>\n",
    "  <tr>\n",
    "    <td> <b>Output of predict: shape (4,),value [0. 1. 1. 1.]<b></td>\n",
    "  </tr>\n",
    "</table>"
   ]
  },
  {
   "cell_type": "markdown",
   "metadata": {},
   "source": [
    "Agora vamos usar isso para calcular a acurácia do conjunto de treinamento"
   ]
  },
  {
   "cell_type": "code",
   "execution_count": 128,
   "metadata": {},
   "outputs": [
    {
     "name": "stdout",
     "output_type": "stream",
     "text": [
      "Train Accuracy: 92.000000\n"
     ]
    }
   ],
   "source": [
    "#Calcula a acurácia do nosso conjunto de treinamento\n",
    "p = predict(X_train, w,b)\n",
    "print('Train Accuracy: %f'%(np.mean(p == y_train) * 100))"
   ]
  },
  {
   "cell_type": "markdown",
   "metadata": {},
   "source": [
    "<table>\n",
    "  <tr>\n",
    "    <td> <b>Train Accuracy (approx):<b></td>\n",
    "    <td> 92.00 </td> \n",
    "  </tr>\n",
    "</table>"
   ]
  },
  {
   "cell_type": "markdown",
   "metadata": {},
   "source": [
    "## 3 - Regressão Logística Regularizada\n",
    "\n",
    "Nesta parte do exercício, você implementará a regressão logística regularizada para prever se microchips de uma fábrica passam no controle de qualidade (QC).\n",
    "Muitas vezes, a regressão logística com regularização ajuda a evitar o **overfitting** (sobreajuste).\n",
    "\n",
    "<a name=\"3.1\"></a>\n",
    "### 3.1 Declaração do Problema\n",
    "\n",
    "Suponha que você seja o gerente de produto de uma fábrica de microchips e tenha que decidir se um determinado microchip deve ser aceito ou rejeitado. \n",
    "Para cada microchip, você tem os resultados de dois diferentes testes de QC. \n",
    "- Você tem dados históricos de microchips anteriores nos quais você pode basear seu modelo de regressão logística regularizada.\n",
    "- Cada exemplo de treinamento tem os resultados dos dois testes de QC e a decisão (aceito ou rejeitado).\n",
    "\n",
    "Sua tarefa é construir um modelo de classificação que estime a probabilidade de um microchip ser aceito com base nos resultados desses dois testes.\n",
    "\n",
    "<a name=\"3.2\"></a>\n",
    "### 3.2 Carregamento e visualização dos dados\n",
    "\n",
    "Semelhante à primeira parte, vamos começar carregando o conjunto de dados para esta tarefa. \n",
    "- A função `load_data()` mostrada abaixo carrega os dados nas variáveis `X_train` e `y_train`\n",
    "  - `X_train` contém os resultados dos dois testes de QC para um microchip\n",
    "  - `y_train` é a decisão de QC \n",
    "      - `y_train = 1` se o microchip foi aceito\n",
    "      - `y_train = 0` se o microchip foi rejeitado\n",
    "  - Tanto `X_train` quanto `y_train` são arrays numpy.\n"
   ]
  },
  {
   "cell_type": "code",
   "execution_count": 129,
   "metadata": {
    "deletable": false,
    "editable": false
   },
   "outputs": [],
   "source": [
    "# Carregar conjunto de dados\n",
    "X_train, y_train = load_data(\"data/ex2data2.txt\")"
   ]
  },
  {
   "cell_type": "markdown",
   "metadata": {},
   "source": [
    "#### Visualizar as Variáveis\n",
    "\n",
    "O código abaixo exibe os primeiros cinco valores de `X_train` e `y_train` e o tipo das variáveis."
   ]
  },
  {
   "cell_type": "code",
   "execution_count": 130,
   "metadata": {},
   "outputs": [
    {
     "name": "stdout",
     "output_type": "stream",
     "text": [
      "X_train: [[ 0.051267  0.69956 ]\n",
      " [-0.092742  0.68494 ]\n",
      " [-0.21371   0.69225 ]\n",
      " [-0.375     0.50219 ]\n",
      " [-0.51325   0.46564 ]]\n",
      "Type of X_train: <class 'numpy.ndarray'>\n",
      "y_train: [1. 1. 1. 1. 1.]\n",
      "Type of y_train: <class 'numpy.ndarray'>\n"
     ]
    }
   ],
   "source": [
    "# print X_train\n",
    "print(\"X_train:\", X_train[:5])\n",
    "print(\"Type of X_train:\",type(X_train))\n",
    "\n",
    "# print y_train\n",
    "print(\"y_train:\", y_train[:5])\n",
    "print(\"Type of y_train:\",type(y_train))"
   ]
  },
  {
   "cell_type": "markdown",
   "metadata": {},
   "source": [
    "#### Verificar as Dimensões de Suas Variáveis\n",
    "\n",
    "Outra maneira útil de se familiarizar com seus dados é visualizar suas dimensões. Vamos imprimir o *shape* (forma/formato) de `X_train` e `y_train` e ver quantos exemplos de treinamento temos em nosso *dataset* (conjunto de dados)."
   ]
  },
  {
   "cell_type": "code",
   "execution_count": 131,
   "metadata": {
    "deletable": false,
    "editable": false
   },
   "outputs": [
    {
     "name": "stdout",
     "output_type": "stream",
     "text": [
      "O formato de X_train é: (118, 2)\n",
      "O formato de y_train é: (118,)\n",
      "Temos m = 118 exemplos de treinamento\n"
     ]
    }
   ],
   "source": [
    "print ('O formato de X_train é: ' + str(X_train.shape))\n",
    "print ('O formato de y_train é: ' + str(y_train.shape))\n",
    "print ('Temos m = %d exemplos de treinamento' % (len(y_train)))"
   ]
  },
  {
   "cell_type": "markdown",
   "metadata": {},
   "source": [
    "#### Visualizar seus dados\n",
    "\n",
    "O código abaixo plota os dados num gráfico 2D, onde os eixos são os dois resultados dos testes de QC. \n",
    "\n",
    "Da visualização, parece que você não pode desenhar uma linha reta que separe os exemplos positivos dos negativos. Portanto, uma regressão logística simples não funcionará bem neste conjunto de dados não linear. \n",
    "\n",
    "<img src=\"images/figure 3.png\" width=\"450\" height=\"450\">\n"
   ]
  },
  {
   "cell_type": "code",
   "execution_count": 132,
   "metadata": {
    "deletable": false,
    "editable": false
   },
   "outputs": [
    {
     "data": {
      "image/png": "[encoded data removed]",
      "text/plain": [
       "<Figure size 640x480 with 1 Axes>"
      ]
     },
     "metadata": {},
     "output_type": "display_data"
    }
   ],
   "source": [
    "# Plotar exemplos\n",
    "plot_data(X_train, y_train[:], pos_label=\"Aceito\", neg_label=\"Rejeitado\")\n",
    "\n",
    "# Definir rótulos\n",
    "plt.ylabel('Resultado do Teste 2') \n",
    "plt.xlabel('Resultado do Teste 1') \n",
    "plt.legend(loc=\"upper right\")\n",
    "plt.show()"
   ]
  },
  {
   "cell_type": "markdown",
   "metadata": {},
   "source": [
    "<a name=\"3.3\"></a>\n",
    "### 3.3 Mapeamento de Features\n",
    "\n",
    "Uma forma de ajustar os dados usando o modelo de regressão logística sem regularização é criar mais features a partir de cada ponto de dados. \n",
    "- A função `map_feature` mostrada abaixo mapeará as features para todos os termos polinomiais de $x_1$ e $x_2$ até a sexta potência, resultando em um vetor de 27 features para cada exemplo. \n",
    "\n",
    "$$\\mathrm{map\\_feature}(x) = \n",
    "\\left[\\begin{array}{c}\n",
    "x_1\\\\\n",
    "x_2\\\\\n",
    "x_1^2\\\\\n",
    "x_1 x_2\\\\\n",
    "x_2^2\\\\\n",
    "x_1^3\\\\\n",
    "\\vdots\\\\\n",
    "x_1 x_2^5\\\\\n",
    "x_2^6\\end{array}\\right]$$\n",
    "\n",
    "Isso criará uma fronteira de decisão de alta dimensão que é suficiente para separar os exemplos positivos dos negativos.\n",
    "\n",
    "- Você deve usar a função `map_feature` que está no arquivo `utils.py` para mapear os dados e ajustá-los aos parâmetros do modelo."
   ]
  },
  {
   "cell_type": "code",
   "execution_count": 133,
   "metadata": {},
   "outputs": [
    {
     "name": "stdout",
     "output_type": "stream",
     "text": [
      "Formato original dos dados (118, 2)\n",
      "Formato depois do mapeamento de features: (118, 27)\n"
     ]
    }
   ],
   "source": [
    "print(\"Formato original dos dados\", X_train.shape)\n",
    "\n",
    "mapped_X =  map_feature(X_train[:, 0], X_train[:, 1])\n",
    "print(\"Formato depois do mapeamento de features:\", mapped_X.shape)"
   ]
  },
  {
   "cell_type": "markdown",
   "metadata": {},
   "source": [
    "Vamos também imprimir os primeiros elementos de `X_train` e `mapped_X` para ver a transformação."
   ]
  },
  {
   "cell_type": "code",
   "execution_count": 134,
   "metadata": {},
   "outputs": [
    {
     "name": "stdout",
     "output_type": "stream",
     "text": [
      "X_train[0]: [0.051267 0.69956 ]\n",
      "mapped X_train[0]: [5.12670000e-02 6.99560000e-01 2.62830529e-03 3.58643425e-02\n",
      " 4.89384194e-01 1.34745327e-04 1.83865725e-03 2.50892595e-02\n",
      " 3.42353606e-01 6.90798869e-06 9.42624411e-05 1.28625106e-03\n",
      " 1.75514423e-02 2.39496889e-01 3.54151856e-07 4.83255257e-06\n",
      " 6.59422333e-05 8.99809795e-04 1.22782870e-02 1.67542444e-01\n",
      " 1.81563032e-08 2.47750473e-07 3.38066048e-06 4.61305487e-05\n",
      " 6.29470940e-04 8.58939846e-03 1.17205992e-01]\n"
     ]
    }
   ],
   "source": [
    "print(\"X_train[0]:\", X_train[0])\n",
    "print(\"mapped X_train[0]:\", mapped_X[0])"
   ]
  },
  {
   "cell_type": "markdown",
   "metadata": {},
   "source": [
    "Embora o mapeamento de *features* (características/atributos) nos permita construir um classificador mais expressivo, ele também é mais suscetível ao *overfitting* (sobreajuste). Nas próximas partes do exercício, você implementará a regressão logística regularizada para ajustar os dados e também verá por si mesmo como a regularização pode ajudar a combater o problema do *overfitting*.\n",
    "\n",
    "\n",
    "<a name=\"3.4\"></a>\n",
    "### 3.4 Função Custo para Regressão Logística Regularizada\n",
    "\n",
    "Nesta parte, você implementará a função custo para a regressão logística regularizada.\n",
    "\n",
    "Lembre-se que, para a regressão logística regularizada, a função custo tem a forma:\n",
    "\n",
    "$$J(\\mathbf{w},b) = \\frac{1}{m}  \\sum_{i=0}^{m-1} \\left[ -y^{(i)} \\log\\left(f_{\\mathbf{w},b}\\left( \\mathbf{x}^{(i)} \\right) \\right) - \\left( 1 - y^{(i)}\\right) \\log \\left( 1 - f_{\\mathbf{w},b}\\left( \\mathbf{x}^{(i)} \\right) \\right) \\right] + \\frac{\\lambda}{2m}  \\sum_{j=0}^{n-1} w_j^2$$\n",
    "\n",
    "Compare isso com a função custo sem regularização (que você implementou acima), que tem a forma:\n",
    "\n",
    "$$ J(\\mathbf{w}.b) = \\frac{1}{m}\\sum_{i=0}^{m-1} \\left[ (-y^{(i)} \\log\\left(f_{\\mathbf{w},b}\\left( \\mathbf{x}^{(i)} \\right) \\right) - \\left( 1 - y^{(i)}\\right) \\log \\left( 1 - f_{\\mathbf{w},b}\\left( \\mathbf{x}^{(i)} \\right) \\right)\\right]$$\n",
    "\n",
    "A diferença é o termo de regularização, que é $$\\frac{\\lambda}{2m}  \\sum_{j=0}^{n-1} w_j^2$$ \n",
    "Note que o parâmetro $b$ não é regularizado."
   ]
  },
  {
   "cell_type": "markdown",
   "metadata": {},
   "source": [
    "<a name='ex-05'></a>\n",
    "### Exercício 5\n",
    "\n",
    "Complete a função `compute_cost_reg` abaixo para calcular o seguinte termo para cada elemento em $w$\n",
    "\n",
    "$$\\frac{\\lambda}{2m}  \\sum_{j=0}^{n-1} w_j^2$$\n",
    "\n",
    "O código inicial (ou código base) então adiciona isso ao custo sem regularização (o qual você calculou acima em `compute_cost`) para calcular o custo com regularização."
   ]
  },
  {
   "cell_type": "code",
   "execution_count": 135,
   "metadata": {},
   "outputs": [],
   "source": [
    "# UNQ_C5\n",
    "# GRADED FUNCTION: compute_cost_reg\n",
    "\n",
    "def compute_cost_reg(X, y, w, b, lambda_ = 1):\n",
    "    \"\"\"\n",
    "    Computa o custo sobre todos os exemplos com regularização\n",
    "    Args:\n",
    "      X : (ndarray Shape (m,n)) dados, m exemplos por n features\n",
    "      y : (ndarray Shape (m,))  valor alvo \n",
    "      w : (ndarray Shape (n,))  valores dos parâmetros do modelo      \n",
    "      b : (scalar)              valor do parâmetro de bias do modelo\n",
    "      lambda_ : (scalar,float)  parâmetro de regularização\n",
    "    \n",
    "    Returns:\n",
    "      total_cost : (scalar)     custo calculado com regularização \n",
    "    \"\"\"\n",
    "\n",
    "    m, n = X.shape\n",
    "    \n",
    "    # Chamar a função de custo não regularizada\n",
    "    cost_without_reg = compute_cost(X, y, w, b) \n",
    "    \n",
    "    # Você não deve regularizar o termo de bias (b)\n",
    "    reg_cost = 0.\n",
    "    \n",
    "    ### START CODE HERE ###\n",
    "    \n",
    "    reg_cost = (lambda_/(2*m)) * np.sum(w**2)\n",
    "\n",
    "    ### END CODE HERE ###\n",
    "    \n",
    "    total_cost = cost_without_reg + reg_cost\n",
    "    \n",
    "    return total_cost"
   ]
  },
  {
   "cell_type": "markdown",
   "metadata": {},
   "source": [
    "Execute as células abaixo para verificar a sua implementação da função `compute_cost_reg`."
   ]
  },
  {
   "cell_type": "code",
   "execution_count": 136,
   "metadata": {
    "deletable": false,
    "editable": false
   },
   "outputs": [
    {
     "name": "stdout",
     "output_type": "stream",
     "text": [
      "Custo regularizado : 0.6618252552483951\n",
      "\u001b[92mAll tests passed!\n"
     ]
    }
   ],
   "source": [
    "X_mapped = map_feature(X_train[:, 0], X_train[:, 1])\n",
    "np.random.seed(1)\n",
    "initial_w = np.random.rand(X_mapped.shape[1]) - 0.5\n",
    "initial_b = 0.5\n",
    "lambda_ = 0.5\n",
    "cost = compute_cost_reg(X_mapped, y_train, initial_w, initial_b, lambda_)\n",
    "\n",
    "print(\"Custo regularizado :\", cost)\n",
    "\n",
    "# UNIT TEST    \n",
    "compute_cost_reg_test(compute_cost_reg)"
   ]
  },
  {
   "cell_type": "markdown",
   "metadata": {},
   "source": [
    "**Saída Esperada**:\n",
    "<table>\n",
    "  <tr>\n",
    "    <td> <b>Custo regularizado : <b></td>\n",
    "    <td> 0.6618252552483948 </td> \n",
    "  </tr>\n",
    "</table>"
   ]
  },
  {
   "cell_type": "markdown",
   "metadata": {},
   "source": [
    "<a name=\"3.5\"></a>\n",
    "### 3.5 Gradiente para Regressão Logística Regularizada\n",
    "\n",
    "Para regressão logística com regularização, o gradiente do custo é definido como:\n",
    "$$\n",
    "\\frac{\\partial J(\\mathbf{w},b)}{\\partial b}  = \\frac{1}{m} \\sum\\limits_{i = 0}^{m-1} (f_{\\mathbf{w},b}(\\mathbf{x}^{(i)}) - \\mathbf{y}^{(i)}) \\tag{4}\n",
    "$$\n",
    "\n",
    "$$\n",
    "\\frac{\\partial J(\\mathbf{w},b)}{\\partial w_j}  = \\left( \\frac{1}{m} \\sum\\limits_{i = 0}^{m-1} (f_{\\mathbf{w},b}(\\mathbf{x}^{(i)}) - \\mathbf{y}^{(i)})x_{j}^{(i)} \\right) + \\frac{\\lambda}{m} w_j \\quad\\, \\text{ para } j=0...(n-1) \\tag{5}\n",
    "$$\n",
    "\n",
    "onde $m$ é o número de exemplos de treinamento no conjunto de dados, e $\\lambda$ é o parâmetro de regularização.\n",
    "\n",
    "O termo de bias $b$ não é regularizado. \n",
    "A forma como você calcula o termo de bias é idêntica à forma como o calculou na seção **2.5**. Você também pode notar que a porção não regularizada do gradiente para $w_j$ é idêntica àquela na seção **2.5**, a única diferença é a adição do termo de regularização, $\\frac{\\lambda}{m} w_j$."
   ]
  },
  {
   "cell_type": "markdown",
   "metadata": {},
   "source": [
    "<a name='ex-06'></a>\n",
    "### Exercício 6\n",
    "\n",
    "Complete a função `compute_gradient_reg` abaixo para modificar o código e calcular o seguinte termo:\n",
    "\n",
    "$$\\frac{\\lambda}{m} w_j  \\quad\\, \\text{ para } j=0...(n-1)$$\n",
    "\n",
    "O código base adicionará este termo ao $\\frac{\\partial J(\\mathbf{w},b)}{\\partial w}$ retornado da função `compute_gradient` acima para obter o gradiente da função custo regularizada.\n",
    "\n"
   ]
  },
  {
   "cell_type": "code",
   "execution_count": 137,
   "metadata": {},
   "outputs": [],
   "source": [
    "# UNQ_C6\n",
    "# GRADED FUNCTION: compute_gradient_reg\n",
    "def compute_gradient_reg(X, y, w, b, lambda_ = 1):\n",
    "    \"\"\"\n",
    "    Calcula o gradiente para regressão logística com regularização\n",
    " \n",
    "    Args:\n",
    "      X : (ndarray Shape (m,n)) dados, m exemplos por n features\n",
    "      y : (ndarray Shape (m,))  valor alvo \n",
    "      w : (ndarray Shape (n,))  valores dos parâmetros do modelo      \n",
    "      b : (scalar)              valor do parâmetro de bias do modelo\n",
    "      lambda_ : (scalar,float)  parâmetro de regularização\n",
    "    \n",
    "    Returns:\n",
    "      dj_db : (scalar)             O gradiente do custo em relação ao parâmetro b. \n",
    "      dj_dw : (ndarray Shape (n,)) O gradiente do custo em relação aos parâmetros w. \n",
    "    \"\"\"\n",
    "    m, n = X.shape\n",
    "    \n",
    "    # Chamar a função de gradiente não regularizada\n",
    "    dj_db, dj_dw = compute_gradient(X, y, w, b)\n",
    "    \n",
    "    ### START CODE HERE ###\n",
    "\n",
    "    dj_dw += (lambda_/m) * w\n",
    "    \n",
    "    ### END CODE HERE ###         \n",
    "        \n",
    "    return dj_db, dj_dw"
   ]
  },
  {
   "cell_type": "markdown",
   "metadata": {},
   "source": [
    "Execute as células abaixo para verificar a sua implementação da função `compute_gradient_reg`."
   ]
  },
  {
   "cell_type": "code",
   "execution_count": 138,
   "metadata": {
    "deletable": false,
    "editable": false
   },
   "outputs": [
    {
     "name": "stdout",
     "output_type": "stream",
     "text": [
      "dj_db: 0.07138288792343654\n",
      "Primeiros elementos do dj_dw regularizado:\n",
      " [-0.010386028450548701, 0.011409852883280122, 0.0536273463274574, 0.0031402782673134637]\n",
      "\u001b[92mAll tests passed!\n"
     ]
    }
   ],
   "source": [
    "X_mapped = map_feature(X_train[:, 0], X_train[:, 1])\n",
    "np.random.seed(1) \n",
    "initial_w  = np.random.rand(X_mapped.shape[1]) - 0.5 \n",
    "initial_b = 0.5\n",
    " \n",
    "lambda_ = 0.5\n",
    "dj_db, dj_dw = compute_gradient_reg(X_mapped, y_train, initial_w, initial_b, lambda_)\n",
    "\n",
    "print(f\"dj_db: {dj_db}\", )\n",
    "print(f\"Primeiros elementos do dj_dw regularizado:\\n {dj_dw[:4].tolist()}\", )\n",
    "\n",
    "# UNIT TESTS    \n",
    "compute_gradient_reg_test(compute_gradient_reg)"
   ]
  },
  {
   "cell_type": "markdown",
   "metadata": {},
   "source": [
    "**Saída Esperada**:\n",
    "<table>\n",
    "  <tr>\n",
    "    <td> <b>dj_db:</b>0.07138288792343</td> </tr>\n",
    "  <tr>\n",
    "      <td> <b> Primeiros elementos do dj_dw regularizado: </b> </td> </tr>\n",
    "   <tr>\n",
    "   <td> [[-0.010386028450548], [0.011409852883280], [0.0536273463274], [0.003140278267313]] </td> \n",
    "  </tr>\n",
    "</table>"
   ]
  },
  {
   "cell_type": "markdown",
   "metadata": {},
   "source": [
    "<a name=\"3.6\"></a>\n",
    "### 3.6 Aprendizagem de parâmetros usando o gradiente descendente\n",
    "\n",
    "Similarmente às partes anteriores, você usará a sua função de descida do gradiente implementada acima para aprender os parâmetros ideais $w$ e $b$.\n",
    "- Se você completou o cálculo do custo e do gradiente para a regressão logística regularizada corretamente, você deverá ser capaz de executar a próxima célula para aprender os parâmetros $w$.\n",
    "- Após treinar nossos parâmetros, usaremos eles para plotar a fronteira de decisão.\n",
    "\n",
    "\n",
    "**Observação**\n",
    "\n",
    "O bloco de código abaixo leva um tempo considerável para ser executado, especialmente com uma versão não vetorizada. Você pode reduzir as iterações para testar sua implementação e iterar mais rápido. Se tiver tempo depois, execute por 100.000 iterações para ver resultados melhores."
   ]
  },
  {
   "cell_type": "code",
   "execution_count": 139,
   "metadata": {
    "deletable": false,
    "editable": false
   },
   "outputs": [
    {
     "name": "stdout",
     "output_type": "stream",
     "text": [
      "Iteration    0: Cost     0.72 \n",
      "Iteration 1000: Cost     0.59 \n",
      "Iteration 2000: Cost     0.56 \n",
      "Iteration 3000: Cost     0.53 \n",
      "Iteration 4000: Cost     0.51 \n",
      "Iteration 5000: Cost     0.50 \n",
      "Iteration 6000: Cost     0.48 \n",
      "Iteration 7000: Cost     0.47 \n",
      "Iteration 8000: Cost     0.46 \n",
      "Iteration 9000: Cost     0.45 \n",
      "Iteration 9999: Cost     0.45 \n"
     ]
    }
   ],
   "source": [
    "# Initialize fitting parameters\n",
    "np.random.seed(1)\n",
    "initial_w = np.random.rand(X_mapped.shape[1])-0.5\n",
    "initial_b = 1.\n",
    "\n",
    "# Set regularization parameter lambda_ (you can try varying this)\n",
    "lambda_ = 0.01    \n",
    "\n",
    "# Some gradient descent settings\n",
    "iterations = 10000\n",
    "alpha = 0.01\n",
    "\n",
    "w,b, J_history,_ = gradient_descent(X_mapped, y_train, initial_w, initial_b, \n",
    "                                    compute_cost_reg, compute_gradient_reg, \n",
    "                                    alpha, iterations, lambda_)"
   ]
  },
  {
   "cell_type": "markdown",
   "metadata": {},
   "source": [
    "<details>\n",
    "<summary>\n",
    "    <b>Saída Esperada: Custo < 0.5  (Clique para detalhes)</b>\n",
    "</summary>\n",
    "\n",
    "```\n",
    "# Using the following settings\n",
    "#np.random.seed(1)\n",
    "#initial_w = np.random.rand(X_mapped.shape[1])-0.5\n",
    "#initial_b = 1.\n",
    "#lambda_ = 0.01;                                          \n",
    "#iterations = 10000\n",
    "#alpha = 0.01\n",
    "Iteration    0: Cost     0.72   \n",
    "Iteration 1000: Cost     0.59   \n",
    "Iteration 2000: Cost     0.56   \n",
    "Iteration 3000: Cost     0.53   \n",
    "Iteration 4000: Cost     0.51   \n",
    "Iteration 5000: Cost     0.50   \n",
    "Iteration 6000: Cost     0.48   \n",
    "Iteration 7000: Cost     0.47   \n",
    "Iteration 8000: Cost     0.46   \n",
    "Iteration 9000: Cost     0.45   \n",
    "Iteration 9999: Cost     0.45       \n",
    "    \n",
    "```"
   ]
  },
  {
   "cell_type": "markdown",
   "metadata": {},
   "source": [
    "<a name=\"3.7\"></a>\n",
    "### 3.7 Plotagem da Fronteira de Decisão\n",
    "\n",
    "Para ajudar você a visualizar o modelo aprendido por este classificador, usaremos nossa função `plot_decision_boundary`, que plota a fronteira de decisão (não-linear) que separa os exemplos positivos e negativos.\n",
    "\n",
    "- Dentro da função, plotamos a fronteira de decisão não-linear calculando as previsões do classificador em uma grade uniformemente espaçada e, em seguida, desenhamos um gráfico de contorno onde as previsões mudam de $y = 0$ para $y = 1$.\n",
    "\n",
    "- Após aprender os parâmetros $w$ e $b$, o próximo passo é plotar uma fronteira de decisão semelhante à Figura 4.\n",
    "\n",
    "<img src=\"images/figure 4.png\" width=\"450\" height=\"450\">"
   ]
  },
  {
   "cell_type": "code",
   "execution_count": 140,
   "metadata": {
    "deletable": false,
    "editable": false
   },
   "outputs": [
    {
     "data": {
      "image/png": "[encoded data removed]",
      "text/plain": [
       "<Figure size 640x480 with 1 Axes>"
      ]
     },
     "metadata": {},
     "output_type": "display_data"
    }
   ],
   "source": [
    "# Plotar a fronteira de decisão\n",
    "plot_decision_boundary(w, b, X_mapped, y_train)\n",
    "\n",
    "# Adicionar rótulos\n",
    "plt.ylabel('Resultado do Teste 2') \n",
    "plt.xlabel('Resultado do Teste 1') \n",
    "plt.legend(loc=\"upper right\")\n",
    "plt.show()"
   ]
  },
  {
   "cell_type": "markdown",
   "metadata": {},
   "source": [
    "<a name=\"3.8\"></a>\n",
    "### 3.8 Avaliação do modelo de Regressão Logística Regularizada\n",
    "\n",
    "Você usará a função `predict` que você implementou acima para calcular a acurácia do modelo de regressão logística regularizada no conjunto de treinamento (training set)."
   ]
  },
  {
   "cell_type": "code",
   "execution_count": 143,
   "metadata": {
    "deletable": false,
    "editable": false
   },
   "outputs": [
    {
     "name": "stdout",
     "output_type": "stream",
     "text": [
      "Precisão do Treinamento: 82.203390\n"
     ]
    }
   ],
   "source": [
    "# Calcular a precisão no conjunto de treinamento\n",
    "p = predict(X_mapped, w, b)\n",
    "\n",
    "print('Precisão do Treinamento: %f'%(np.mean(p == y_train) * 100))"
   ]
  },
  {
   "cell_type": "markdown",
   "metadata": {},
   "source": [
    "**Saída Esperada**:\n",
    "<table>\n",
    "  <tr>\n",
    "    <td> <b>Precisão do Treinamento<b></td>\n",
    "    <td> ~80% </td> \n",
    "  </tr>\n",
    "</table>"
   ]
  }
 ],
 "metadata": {
  "kernelspec": {
   "display_name": "base",
   "language": "python",
   "name": "python3"
  },
  "language_info": {
   "codemirror_mode": {
    "name": "ipython",
    "version": 3
   },
   "file_extension": ".py",
   "mimetype": "text/x-python",
   "name": "python",
   "nbconvert_exporter": "python",
   "pygments_lexer": "ipython3",
   "version": "3.12.4"
  },
  "orig_nbformat": 4
 },
 "nbformat": 4,
 "nbformat_minor": 2
}
